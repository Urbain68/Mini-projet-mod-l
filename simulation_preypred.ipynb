{
 "cells": [
  {
   "cell_type": "code",
   "execution_count": 30,
   "metadata": {},
   "outputs": [],
   "source": [
    "import numpy as np\n",
    "import matplotlib.pyplot as plt"
   ]
  },
  {
   "cell_type": "code",
   "execution_count": 31,
   "metadata": {},
   "outputs": [],
   "source": [
    "alpha = 0.9\n",
    "beta = 0.7\n",
    "gamma = 0.4\n",
    "\n",
    "rho = 0.9\n",
    "sigma = 0.5\n",
    "nu = 1.5"
   ]
  },
  {
   "cell_type": "code",
   "execution_count": 32,
   "metadata": {},
   "outputs": [],
   "source": [
    "def intraspecies_competition(x_0, y_0, observation):\n",
    "\n",
    "    # modèle à temps discret du système proie-prédateur\n",
    "    def new_prey_pop(x_n, y_n):\n",
    "        return max(0, (alpha + 1)*x_n - beta * x_n * y_n - gamma * x_n**2)\n",
    "    def new_pred_pop(x_n, y_n):\n",
    "        return max(0, (1 - rho)*y_n + sigma * x_n * y_n - nu * y_n**2)\n",
    "    \n",
    "    # expression des points d'équilibre non nuls du système\n",
    "    def equilibre():\n",
    "        y_eq = (sigma*alpha - rho*gamma) / (beta + nu*gamma)\n",
    "        x_eq = (alpha - beta*y_eq)/gamma\n",
    "        return max(0, x_eq), max(0, y_eq)\n",
    "\n",
    "    x_eq, y_eq = equilibre()\n",
    "    Prey_eq = [x_eq]*len(observation)\n",
    "    Pred_eq = [y_eq]*len(observation)\n",
    "\n",
    "    Prey = [x_0]\n",
    "    Pred = [y_0]\n",
    "    for _ in observation[1::]:\n",
    "        old_pop = Prey[-1], Pred[-1]\n",
    "        Prey.append(new_prey_pop(old_pop[0], old_pop[1]))\n",
    "        Pred.append(new_pred_pop(old_pop[0], old_pop[1]))\n",
    "    \n",
    "    fig, (ax1, ax2) = plt.subplots(nrows=1, ncols=2)\n",
    "    ax1.plot(observation, Prey, label=\"prey\")\n",
    "    ax1.plot(observation, Pred, label=\"predator\")\n",
    "    ax1.plot(observation, Prey_eq)\n",
    "    ax1.plot(observation, Pred_eq)\n",
    "    ax1.legend()\n",
    "    ax2.plot(Prey, Pred)\n",
    "    ax2.set_title(\"Portrait de phase\")\n",
    "    plt.show()\n",
    "\n",
    "    return x_eq, y_eq\n"
   ]
  },
  {
   "cell_type": "code",
   "execution_count": 33,
   "metadata": {},
   "outputs": [
    {
     "data": {
      "image/png": "[encoded data removed]",
      "text/plain": [
       "<Figure size 432x288 with 2 Axes>"
      ]
     },
     "metadata": {
      "needs_background": "light"
     },
     "output_type": "display_data"
    },
    {
     "name": "stdout",
     "output_type": "stream",
     "text": [
      "(2.128846153846154, 0.0692307692307692)\n"
     ]
    }
   ],
   "source": [
    "print(intraspecies_competition(0.5, 0.2, [i for i in range(200)]))"
   ]
  }
 ],
 "metadata": {
  "kernelspec": {
   "display_name": "Python 3",
   "language": "python",
   "name": "python3"
  },
  "language_info": {
   "codemirror_mode": {
    "name": "ipython",
    "version": 3
   },
   "file_extension": ".py",
   "mimetype": "text/x-python",
   "name": "python",
   "nbconvert_exporter": "python",
   "pygments_lexer": "ipython3",
   "version": "3.10.4"
  },
  "orig_nbformat": 4,
  "vscode": {
   "interpreter": {
    "hash": "401ec903b4b3bee68616b4c43ec3b4fba969c38f1e6c5fc830530cebb7f828ff"
   }
  }
 },
 "nbformat": 4,
 "nbformat_minor": 2
}
